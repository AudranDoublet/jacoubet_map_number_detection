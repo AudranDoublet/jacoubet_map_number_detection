{
 "cells": [
  {
   "cell_type": "code",
   "execution_count": 354,
   "metadata": {},
   "outputs": [],
   "source": [
    "import cv2\n",
    "import numpy as np\n",
    "\n",
    "from skimage import io\n",
    "from skimage.filters import unsharp_mask, threhsold_otsu\n",
    "from skimage.color import rgb2gray"
   ]
  },
  {
   "cell_type": "code",
   "execution_count": 321,
   "metadata": {},
   "outputs": [],
   "source": [
    "from skimage.measure import label, regionprops\n",
    "\n",
    "from skimage.morphology import *"
   ]
  },
  {
   "cell_type": "code",
   "execution_count": 152,
   "metadata": {},
   "outputs": [],
   "source": [
    "from sklearn.linear_model import LinearRegression, RANSACRegressor\n",
    "from sklearn.preprocessing import PolynomialFeatures\n",
    "from sklearn.pipeline import Pipeline"
   ]
  },
  {
   "cell_type": "code",
   "execution_count": 188,
   "metadata": {},
   "outputs": [],
   "source": [
    "def otsu_image(image, threshold=0):\n",
    "    gray = 1 - image\n",
    "    threshold = threshold_otsu(gray)\n",
    "\n",
    "    return gray > threshold"
   ]
  },
  {
   "cell_type": "code",
   "execution_count": 544,
   "metadata": {},
   "outputs": [],
   "source": [
    "def find_coords_column(img, nb_colums=-1, spacing_threshold=20, line_samples=1000):\n",
    "    img_part = img[:line_samples,:]\n",
    "    scores = img_part.sum(axis=0)\n",
    "    sort_indices = np.argsort(scores)[::-1]\n",
    "\n",
    "    x_coords = []\n",
    "    for indice in sort_indices:\n",
    "        interrupted = False\n",
    "        for x in x_coords:\n",
    "            if abs(indice - x) < spacing_threshold:\n",
    "                interrupted = True\n",
    "                break\n",
    "        if not interrupted:\n",
    "            x_coords.append(indice)\n",
    "            if len(x_coords) == nb_colums:\n",
    "                break\n",
    "    return sorted(x_coords)\n",
    "\n",
    "\n",
    "def find_coords_row(img, nb_colums=-1, spacing_threshold=20, line_samples=1000):\n",
    "    img_part = img[:,:line_samples]\n",
    "    scores = img_part.sum(axis=1)\n",
    "    sort_indices = np.argsort(scores)[::-1]\n",
    "\n",
    "    y_coords = []\n",
    "    for indice in sort_indices:\n",
    "        interrupted = False\n",
    "        for y in y_coords:\n",
    "            if abs(indice - y) < spacing_threshold:\n",
    "                interrupted = True\n",
    "                break\n",
    "        if not interrupted:\n",
    "            y_coords.append(indice)\n",
    "            if len(y_coords) == nb_colums:\n",
    "                break\n",
    "    return sorted(y_coords)"
   ]
  },
  {
   "cell_type": "code",
   "execution_count": 218,
   "metadata": {},
   "outputs": [],
   "source": [
    "def filter_bad_lines(img, threshold=0.1):\n",
    "    label_image = label(img)\n",
    "\n",
    "    for i, region in enumerate(regionprops(label_image)):\n",
    "        bbox = region.bbox\n",
    "        h = bbox[2] - bbox[0]\n",
    "        w = bbox[3] - bbox[1]\n",
    "\n",
    "        ratio = min(h, w) / max(h, w)\n",
    "        box = label_image[bbox[0]:bbox[2],bbox[1]:bbox[3]]\n",
    "        \n",
    "        if ratio > threshold:\n",
    "            sm = img[bbox[0]:bbox[2],bbox[1]:bbox[3]]\n",
    "            sm[box == i + 1] = 0\n",
    "            continue\n",
    "\n",
    "    return img"
   ]
  },
  {
   "cell_type": "code",
   "execution_count": 533,
   "metadata": {},
   "outputs": [],
   "source": [
    "def line_seems_valid(image, rr, cc):\n",
    "    mask = np.zeros(image.shape)\n",
    "    mask[rr, cc] = 255\n",
    "    mask = mask > 0\n",
    "\n",
    "    black_count = np.sum(image[mask] < 0.7)\n",
    "    total_count = np.sum(mask)\n",
    "    \n",
    "    return black_count / total_count > 0.4"
   ]
  },
  {
   "cell_type": "code",
   "execution_count": 633,
   "metadata": {},
   "outputs": [],
   "source": [
    "def learn(X, y, pol_degree):\n",
    "    try:\n",
    "        model = Pipeline([('poly', PolynomialFeatures(degree=pol_degree)),\n",
    "                          ('linear', RANSACRegressor())])\n",
    "        model.fit(X, y)\n",
    "    except:\n",
    "        model = Pipeline([('poly', PolynomialFeatures(degree=pol_degree)),\n",
    "                          ('linear', LinearRegression())])\n",
    "        model.fit(X, y)\n",
    "\n",
    "    return model"
   ]
  },
  {
   "cell_type": "code",
   "execution_count": 602,
   "metadata": {},
   "outputs": [],
   "source": [
    "def curvature(original, rr, cc):\n",
    "    mask = np.zeros(original.shape)\n",
    "    mask[rr, cc] = 255\n",
    "    mask = mask > 0\n",
    "\n",
    "    black_count = np.sum(original[mask] < 0.7)\n",
    "    total_count = np.sum(mask)\n",
    "\n",
    "    return total_count / black_count\n",
    "\n",
    "\n",
    "def curvature_filter(original, arr, spacing_threshold=200):\n",
    "    arr = list(arr)\n",
    "\n",
    "    cvts = np.array([curvature(original, rr, cc) for _, rr, cc in arr])\n",
    "    result = []\n",
    "\n",
    "    known_pos = []\n",
    "\n",
    "    for i in np.argsort(cvts):\n",
    "        pos, rr, cc = arr[i]\n",
    "\n",
    "        if np.sum(np.abs(known_pos - pos) < spacing_threshold) > 0:\n",
    "            continue\n",
    "\n",
    "        known_pos = np.append(known_pos, [pos])\n",
    "        result.append([rr, cc])\n",
    "\n",
    "    return np.array(result)[np.argsort(known_pos)]"
   ]
  },
  {
   "cell_type": "code",
   "execution_count": 603,
   "metadata": {},
   "outputs": [],
   "source": [
    "def get_columns(original, img, context_width=50, pol_degree=3):\n",
    "    for column in find_coords_column(img):\n",
    "        m_x = max(0, column - context_width)\n",
    "        pix = img[:,m_x:column+context_width]\n",
    "\n",
    "        non_z = cv2.findNonZero(pix * 255)\n",
    "\n",
    "        if non_z is None or non_z.shape[0] < 50:\n",
    "            continue\n",
    "\n",
    "        non_z = non_z.reshape(-1, 2)\n",
    "        model = learn(non_z[:,1].reshape(-1, 1), non_z[:,0], pol_degree)\n",
    "\n",
    "        rr = np.array([i for i in range(img.shape[0])]).astype(np.int32)\n",
    "        cc = model.predict(rr.reshape(-1, 1)).astype(np.int32) + m_x\n",
    "\n",
    "        cc[cc < 0] = 0\n",
    "        cc[cc >= original.shape[1]] = original.shape[1] - 1\n",
    "\n",
    "        if line_seems_valid(original, rr, cc):\n",
    "            yield (column, rr, cc)\n",
    "\n",
    "\n",
    "def get_rows(original, img, context_width=50, pol_degree=3):\n",
    "    for row in find_coords_row(img):\n",
    "        m_y = max(0, row - context_width)\n",
    "        pix = img[m_y:row+context_width,:]\n",
    "\n",
    "        non_z = cv2.findNonZero(pix * 255)\n",
    "\n",
    "        if non_z is None or non_z.shape[0] < 50:\n",
    "            continue\n",
    "\n",
    "        non_z = non_z.reshape(-1, 2)\n",
    "\n",
    "        model = learn(non_z[:,0].reshape(-1, 1), non_z[:,1], pol_degree)\n",
    "\n",
    "        cc = np.array([i for i in range(img.shape[1])]).astype(np.int32)\n",
    "        rr = model.predict(cc.reshape(-1, 1)).astype(np.int32) + m_y\n",
    "\n",
    "        rr[rr < 0] = 0\n",
    "        rr[rr >= original.shape[0]] = original.shape[0] - 1\n",
    "\n",
    "        if line_seems_valid(original, rr, cc):\n",
    "            yield (row, rr, cc)"
   ]
  },
  {
   "cell_type": "code",
   "execution_count": 604,
   "metadata": {},
   "outputs": [],
   "source": [
    "def prefilter(image):\n",
    "    img = otsu_image(image)\n",
    "    img = img ^ ((img ^ remove_small_objects(img, 50000)) | (remove_small_objects(img, 1000000)))\n",
    "    img = binary_dilation(filter_bad_lines(img, threshold=0.3))\n",
    "\n",
    "    filtred_img = image.copy()\n",
    "    filtred_img[img] = 1\n",
    "\n",
    "    filtred_img = unsharp_mask(filtred_img, radius=5, amount=3)\n",
    "    c = 50\n",
    "\n",
    "    lin_img = filter_bad_lines(dilation(filtred_img, np.array([[1]*c])) < 0.7)\n",
    "    lin_img = filter_bad_lines(closing(lin_img, square(10)))\n",
    "\n",
    "    col_img = filter_bad_lines(dilation(filtred_img, np.array([[1]]*c)) < 0.7)\n",
    "    col_img = filter_bad_lines(closing(col_img, square(10)))\n",
    "\n",
    "    return lin_img, col_img"
   ]
  },
  {
   "cell_type": "code",
   "execution_count": 631,
   "metadata": {},
   "outputs": [],
   "source": [
    "def process_image(inputFile, exteriorFile, gridFile):\n",
    "    image = rgb2gray(io.imread(inputFile))\n",
    "    lin_img, col_img = prefilter(image)\n",
    "\n",
    "    cols = list(curvature_filter(image, get_columns(image, col_img)))\n",
    "    rows = list(curvature_filter(image, get_rows(image, lin_img)))\n",
    "\n",
    "    # external border masks\n",
    "    borders = np.zeros(image.shape)\n",
    "\n",
    "    for rr, cc in [cols[0], cols[-1], rows[0], rows[-1]]:\n",
    "        borders[rr, cc] = 255\n",
    "\n",
    "    # exterior mask\n",
    "    exterior = borders.copy()\n",
    "    exterior = remove_small_holes(exterior > 0, 5000000)*255 - borders\n",
    "    exterior = binary_closing(exterior > 0) * 255\n",
    "\n",
    "    # internal grid mask\n",
    "    grid = np.zeros(image.shape)\n",
    "\n",
    "    for rr, cc in (cols[1:-1] + rows[1:-1]):\n",
    "        grid[rr, cc] = 255\n",
    "\n",
    "    grid = dilation(grid, disk(2))\n",
    "    grid[exterior == 255] = 0\n",
    "\n",
    "    io.imsave(exteriorFile, exterior.astype(np.uint8))\n",
    "    io.imsave(gridFile, grid.astype(np.uint8))"
   ]
  },
  {
   "cell_type": "code",
   "execution_count": 632,
   "metadata": {},
   "outputs": [
    {
     "name": "stderr",
     "output_type": "stream",
     "text": [
      "<ipython-input-631-1940270272ca>:29: UserWarning: pikoukou.png is a low contrast image\n",
      "  io.imsave(gridFile, grid.astype(np.uint8))\n"
     ]
    }
   ],
   "source": [
    "process_image(FILES[0], \"pikou.png\", \"pikou2.png\")"
   ]
  },
  {
   "cell_type": "code",
   "execution_count": 596,
   "metadata": {},
   "outputs": [
    {
     "name": "stderr",
     "output_type": "stream",
     "text": [
      "/usr/lib/python3.8/site-packages/sklearn/metrics/_regression.py:589: UndefinedMetricWarning: R^2 score is not well-defined with less than two samples.\n",
      "  warnings.warn(msg, UndefinedMetricWarning)\n",
      "/usr/lib/python3.8/site-packages/sklearn/metrics/_regression.py:589: UndefinedMetricWarning: R^2 score is not well-defined with less than two samples.\n",
      "  warnings.warn(msg, UndefinedMetricWarning)\n",
      "Lossy conversion from float64 to uint8. Range [0, 1]. Convert image to uint8 prior to saving to suppress this warning.\n",
      "/usr/lib/python3.8/site-packages/sklearn/metrics/_regression.py:589: UndefinedMetricWarning: R^2 score is not well-defined with less than two samples.\n",
      "  warnings.warn(msg, UndefinedMetricWarning)\n",
      "Lossy conversion from float64 to uint8. Range [0, 1]. Convert image to uint8 prior to saving to suppress this warning.\n",
      "/usr/lib/python3.8/site-packages/sklearn/metrics/_regression.py:589: UndefinedMetricWarning: R^2 score is not well-defined with less than two samples.\n",
      "  warnings.warn(msg, UndefinedMetricWarning)\n",
      "/usr/lib/python3.8/site-packages/sklearn/metrics/_regression.py:589: UndefinedMetricWarning: R^2 score is not well-defined with less than two samples.\n",
      "  warnings.warn(msg, UndefinedMetricWarning)\n",
      "Lossy conversion from float64 to uint8. Range [0, 1]. Convert image to uint8 prior to saving to suppress this warning.\n",
      "Lossy conversion from float64 to uint8. Range [0, 1]. Convert image to uint8 prior to saving to suppress this warning.\n",
      "Lossy conversion from float64 to uint8. Range [0, 1]. Convert image to uint8 prior to saving to suppress this warning.\n"
     ]
    }
   ],
   "source": [
    "FILES = !ls inputs/*\n",
    "\n",
    "for i, f in enumerate(FILES):\n",
    "    process_image(f, f\"pikou{i}.png\")"
   ]
  },
  {
   "cell_type": "code",
   "execution_count": 577,
   "metadata": {},
   "outputs": [],
   "source": [
    "FILES = !ls inputs/*\n",
    "image = rgb2gray(io.imread(FILES[1]))"
   ]
  },
  {
   "cell_type": "code",
   "execution_count": 578,
   "metadata": {},
   "outputs": [],
   "source": [
    "lin_img, col_img = prefilter(image)"
   ]
  },
  {
   "cell_type": "code",
   "execution_count": 592,
   "metadata": {},
   "outputs": [],
   "source": [
    "cols = list(curvature_filter(image, get_columns(image, col_img)))\n",
    "rows = list(curvature_filter(image, get_rows(image, lin_img)))"
   ]
  },
  {
   "cell_type": "code",
   "execution_count": 589,
   "metadata": {},
   "outputs": [],
   "source": [
    "result = np.zeros(image.shape)\n",
    "\n",
    "for rr, cc in (cols + rows):\n",
    "    result[rr, cc] = 255\n",
    "\n",
    "result = dilation(result, disk(2))"
   ]
  },
  {
   "cell_type": "code",
   "execution_count": 590,
   "metadata": {},
   "outputs": [
    {
     "name": "stderr",
     "output_type": "stream",
     "text": [
      "Lossy conversion from float64 to uint8. Range [0, 1]. Convert image to uint8 prior to saving to suppress this warning.\n"
     ]
    }
   ],
   "source": [
    "img2 = image.copy()\n",
    "img2[result > 128] = 1\n",
    "io.imsave(\"pikou.png\", img2)"
   ]
  },
  {
   "cell_type": "code",
   "execution_count": 553,
   "metadata": {},
   "outputs": [
    {
     "data": {
      "text/plain": [
       "<matplotlib.image.AxesImage at 0x7fbae3743850>"
      ]
     },
     "execution_count": 553,
     "metadata": {},
     "output_type": "execute_result"
    },
    {
     "data": {
      "image/png": "[encoded data removed]",
      "text/plain": [
       "<Figure size 1152x1152 with 2 Axes>"
      ]
     },
     "metadata": {
      "needs_background": "light"
     },
     "output_type": "display_data"
    }
   ],
   "source": [
    "plt.figure(figsize=(16,16))\n",
    "io.imshow(lin_img[:1000,-1000:])"
   ]
  },
  {
   "cell_type": "code",
   "execution_count": null,
   "metadata": {},
   "outputs": [],
   "source": []
  }
 ],
 "metadata": {
  "kernelspec": {
   "display_name": "Python 3",
   "language": "python",
   "name": "python3"
  },
  "language_info": {
   "codemirror_mode": {
    "name": "ipython",
    "version": 3
   },
   "file_extension": ".py",
   "mimetype": "text/x-python",
   "name": "python",
   "nbconvert_exporter": "python",
   "pygments_lexer": "ipython3",
   "version": "3.8.3"
  }
 },
 "nbformat": 4,
 "nbformat_minor": 4
}
